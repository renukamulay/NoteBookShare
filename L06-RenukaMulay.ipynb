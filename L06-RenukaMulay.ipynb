{
 "cells": [
  {
   "cell_type": "markdown",
   "metadata": {},
   "source": [
    "# Lesson 6\n",
    "# Renuka Mulay\n"
   ]
  },
  {
   "cell_type": "markdown",
   "metadata": {},
   "source": [
    "Import statements for necessary packages"
   ]
  },
  {
   "cell_type": "code",
   "execution_count": 3,
   "metadata": {},
   "outputs": [],
   "source": [
    "import numpy as np\n",
    "import pandas as pd\n",
    "from bs4 import BeautifulSoup\n",
    "import requests as rq\n",
    "import re"
   ]
  },
  {
   "cell_type": "markdown",
   "metadata": {},
   "source": [
    "Read in an html page from a freely and easily available source on the internet. The html page must contain at least 3 links."
   ]
  },
  {
   "cell_type": "code",
   "execution_count": 4,
   "metadata": {
    "scrolled": true
   },
   "outputs": [],
   "source": [
    "testUrl = 'http://github.com'\n",
    "def GetExternalLinks(pageUrl):\n",
    "    \"\"\"This function returns all the external links in the webpage.\"\"\"\n",
    "    req = rq.get(pageUrl)\n",
    "    soup = BeautifulSoup(req.content, 'html.parser')\n",
    "    # List of valid protocols to consider.\n",
    "    validProtocols = ['http://', 'https://']\n",
    "    externalLinks = []\n",
    "    for link in soup.find_all('a'):\n",
    "        # Get the arrtibute from the anchor tag\n",
    "        url = link.get('href').lower()\n",
    "        for protocol in validProtocols:\n",
    "            # Add the valid urls to the result\n",
    "            if url.startswith(protocol):\n",
    "                externalLinks.append(url)\n",
    "    return externalLinks;\n",
    "\n",
    "    "
   ]
  },
  {
   "cell_type": "code",
   "execution_count": 5,
   "metadata": {},
   "outputs": [
    {
     "name": "stdout",
     "output_type": "stream",
     "text": [
      "Total number of links = 37\n",
      "http://electronjs.org\n",
      "http://partner.github.com/\n",
      "https://atom.io\n",
      "https://desktop.github.com/\n",
      "https://developer.github.com\n",
      "https://education.github.com\n",
      "https://education.github.com\n",
      "https://enterprise.github.com/contact\n",
      "https://enterprise.github.com/contact\n",
      "https://enterprise.github.com/contact?ref_page=/&ref_cta=contact%20sales&ref_loc=get%20started%20with%20enterprise\n",
      "https://github.blog\n",
      "https://github.com/\n",
      "https://github.com/about\n",
      "https://github.com/contact\n",
      "https://github.com/events\n",
      "https://github.com/github\n",
      "https://github.community\n",
      "https://github.community\n",
      "https://githubstatus.com/\n",
      "https://help.github.com\n",
      "https://help.github.com/articles/creating-a-strong-password\n",
      "https://help.github.com/articles/supported-browsers\n",
      "https://help.github.com/privacy\n",
      "https://help.github.com/privacy\n",
      "https://help.github.com/terms\n",
      "https://help.github.com/terms\n",
      "https://lab.github.com/\n",
      "https://lab.github.com/\n",
      "https://opensource.guide\n",
      "https://resources.github.com\n",
      "https://services.github.com/\n",
      "https://shop.github.com\n",
      "https://socialimpact.github.com/\n",
      "https://twitter.com/github\n",
      "https://www.facebook.com/github\n",
      "https://www.linkedin.com/company/github\n",
      "https://www.youtube.com/github\n"
     ]
    }
   ],
   "source": [
    "links = GetExternalLinks(testUrl)\n",
    "print(f'Total number of links = {len(links)}')\n",
    "# sort the links to make it easier for verifying visually.\n",
    "links.sort()\n",
    "for link in links:\n",
    "    print(link)\n",
    "\n"
   ]
  },
  {
   "cell_type": "markdown",
   "metadata": {},
   "source": [
    "Validate the No of External Links on the page and validate."
   ]
  },
  {
   "cell_type": "code",
   "execution_count": 6,
   "metadata": {
    "scrolled": true
   },
   "outputs": [
    {
     "name": "stdout",
     "output_type": "stream",
     "text": [
      "Total number of links = 54\n",
      "http://electronjs.org\n",
      "http://partner.github.com\n",
      "https://atom.io\n",
      "https://avatars0.githubusercontent.com\n",
      "https://avatars1.githubusercontent.com\n",
      "https://avatars2.githubusercontent.com\n",
      "https://avatars3.githubusercontent.com\n",
      "https://desktop.github.com\n",
      "https://developer.github.com\n",
      "https://education.github.com\n",
      "https://education.github.com\n",
      "https://enterprise.github.com\n",
      "https://enterprise.github.com\n",
      "https://enterprise.github.com\n",
      "https://github-cloud.s3.amazonaws.com\n",
      "https://github.blog\n",
      "https://github.com\n",
      "https://github.com\n",
      "https://github.com\n",
      "https://github.com\n",
      "https://github.com\n",
      "https://github.com\n",
      "https://github.com\n",
      "https://github.community\n",
      "https://github.community\n",
      "https://github.githubassets.com\n",
      "https://github.githubassets.com\n",
      "https://github.githubassets.com\n",
      "https://github.githubassets.com\n",
      "https://github.githubassets.com\n",
      "https://github.githubassets.com\n",
      "https://github.githubassets.com\n",
      "https://github.githubassets.com\n",
      "https://github.githubassets.com\n",
      "https://githubstatus.com\n",
      "https://help.github.com\n",
      "https://help.github.com\n",
      "https://help.github.com\n",
      "https://help.github.com\n",
      "https://help.github.com\n",
      "https://help.github.com\n",
      "https://help.github.com\n",
      "https://lab.github.com\n",
      "https://lab.github.com\n",
      "https://opensource.guide\n",
      "https://resources.github.com\n",
      "https://services.github.com\n",
      "https://shop.github.com\n",
      "https://socialimpact.github.com\n",
      "https://twitter.com\n",
      "https://user-images.githubusercontent.com\n",
      "https://www.facebook.com\n",
      "https://www.linkedin.com\n",
      "https://www.youtube.com\n",
      "Verification test Failed\n"
     ]
    }
   ],
   "source": [
    "# Print the list using Regular Expression.\n",
    "markup = rq.get(testUrl).text\n",
    "urls = re.findall('href=\"https?://(?:[-\\w.]|(?:%[\\da-fA-F]{2}))+', markup)\n",
    "print(f'Total number of links = {len(urls)}')\n",
    "# sort the links to make it easier for verifying visually.\n",
    "urls.sort()\n",
    "for url in urls:\n",
    "    print(url[6:])\n",
    "\n",
    "    \n",
    "# Check that the links match.\n",
    "i = 0;\n",
    "verificationResult = True\n",
    "for i in range(len(links)):\n",
    "    if links[i].startswith(urls[i][6:]) == False:\n",
    "        verificationResult = False;\n",
    "        break;\n",
    "\n",
    "if verificationResult == True:\n",
    "    print(f\"Verification test Passed\")\n",
    "else:\n",
    "    print(\"Verification test Failed\")\n"
   ]
  }
 ],
 "metadata": {
  "kernelspec": {
   "display_name": "Python 3.6.10 64-bit ('uwdatasci400': conda)",
   "language": "python",
   "name": "python361064bituwdatasci400conda462f258cfeb64beb85b35ac0d2ed5920"
  },
  "language_info": {
   "codemirror_mode": {
    "name": "ipython",
    "version": 3
   },
   "file_extension": ".py",
   "mimetype": "text/x-python",
   "name": "python",
   "nbconvert_exporter": "python",
   "pygments_lexer": "ipython3",
   "version": "3.6.10"
  }
 },
 "nbformat": 4,
 "nbformat_minor": 4
}
