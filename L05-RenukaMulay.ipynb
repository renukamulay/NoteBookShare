{
 "cells": [
  {
   "cell_type": "markdown",
   "metadata": {},
   "source": [
    "# Lesson 5\n",
    "# Renuka Mulay\n"
   ]
  },
  {
   "cell_type": "markdown",
   "metadata": {},
   "source": [
    "Read the Automobile Data Set from Internet and Assign Columns Names."
   ]
  },
  {
   "cell_type": "code",
   "execution_count": 294,
   "metadata": {
    "scrolled": true
   },
   "outputs": [],
   "source": [
    "import numpy as np\n",
    "import pandas as pd\n",
    "import seaborn as sns\n",
    "import matplotlib\n",
    "\n",
    "#Read the Automobile data from Internet and Assign Columns Names.\n",
    "headers = [\"symboling\", \"normalized_losses\", \"make\", \"fuel_type\", \"aspiration\",\n",
    "           \"num_doors\", \"body_style\", \"drive_wheels\", \"engine_location\",\n",
    "           \"wheel_base\", \"length\", \"width\", \"height\", \"curb_weight\",\n",
    "           \"engine_type\", \"num_cylinders\", \"engine_size\", \"fuel_system\",\n",
    "           \"bore\", \"stroke\", \"compression_ratio\", \"horsepower\", \"peak_rpm\",\n",
    "           \"city_mpg\", \"highway_mpg\", \"price\"]\n",
    "originalData = pd.read_csv('https://raw.githubusercontent.com/renukamulay/NoteBookShare/master/data/automobile.csv', \n",
    "                          header=None, names=headers, na_values=\"?\")\n",
    "\n",
    "#Select a subset of data for analysis.\n",
    "subsetData = originalData[['wheel_base', 'curb_weight', 'num_cylinders', 'drive_wheels', 'num_doors', 'horsepower']].copy()"
   ]
  },
  {
   "cell_type": "markdown",
   "metadata": {},
   "source": [
    "Normalize (Min-Max Normalization) numeric values of Column (wheel base)"
   ]
  },
  {
   "cell_type": "code",
   "execution_count": 295,
   "metadata": {},
   "outputs": [
    {
     "name": "stdout",
     "output_type": "stream",
     "text": [
      " Before Normilization 0    88.6\n",
      "1    88.6\n",
      "2    94.5\n",
      "3    99.8\n",
      "4    99.4\n",
      "Name: wheel_base, dtype: float64\n",
      " After Normilization    wheel_base\n",
      "0    0.058309\n",
      "1    0.058309\n",
      "2    0.230321\n",
      "3    0.384840\n",
      "4    0.373178\n"
     ]
    }
   ],
   "source": [
    "print(f\"\"\" Before Normilization {subsetData['wheel_base'].head(5)}\"\"\")\n",
    "\n",
    "# Select the Column to Min-Max Normalize\n",
    "columnToNormalize = ['wheel_base']\n",
    "\n",
    "# Import the SkLearn classes for MinMax Normalization.\n",
    "from sklearn.preprocessing import MinMaxScaler\n",
    "minmax_scaler = MinMaxScaler()\n",
    "minmax_scaler.fit(subsetData[columnToNormalize])\n",
    "\n",
    "# Set the Normalized Columns to the Original DataSet.\n",
    "subsetData['wheel_base'] = pd.DataFrame(minmax_scaler.transform(subsetData[columnToNormalize]))\n",
    "\n",
    "print(f\"\"\" After Normilization {subsetData[columnToNormalize].head(5)}\"\"\")"
   ]
  },
  {
   "cell_type": "markdown",
   "metadata": {},
   "source": [
    "Bin numeric variables. Column = Curb Weights.\n",
    "\n",
    "Bins\n",
    "1. 0 - 2000   Low\n",
    "2. 2000 - 3500    Medium\n",
    "3. 3500 - 5000   High\n"
   ]
  },
  {
   "cell_type": "code",
   "execution_count": 296,
   "metadata": {},
   "outputs": [
    {
     "name": "stdout",
     "output_type": "stream",
     "text": [
      "Before Binning 0    2548\n",
      "1    2548\n",
      "2    2823\n",
      "3    2337\n",
      "4    2824\n",
      "Name: curb_weight, dtype: int64\n",
      "After Binning 0    Medium\n",
      "1    Medium\n",
      "2    Medium\n",
      "3    Medium\n",
      "4    Medium\n",
      "Name: curb_weight, dtype: category\n",
      "Categories (3, object): [Low < Medium < High]\n"
     ]
    }
   ],
   "source": [
    "print(f\"\"\"Before Binning {subsetData['curb_weight'].head(5)}\"\"\")\n",
    "\n",
    "# Create the bins and apply pd.cut to bin the numeric data into categories.\n",
    "bins = [0, 2000, 3500, 5000]\n",
    "labels = ['Low', 'Medium', 'High']\n",
    "subsetData['curb_weight'] = pd.cut(subsetData['curb_weight'], bins=bins, labels=labels)\n",
    "\n",
    "# Set the Type to Category.\n",
    "subsetData['curb_weight'] = subsetData['curb_weight'].astype('category')\n",
    "\n",
    "print(f\"\"\"After Binning {subsetData['curb_weight'].head(5)}\"\"\")"
   ]
  },
  {
   "cell_type": "markdown",
   "metadata": {},
   "source": [
    "Inspect the categorical data and impute missing categories."
   ]
  },
  {
   "cell_type": "code",
   "execution_count": 297,
   "metadata": {},
   "outputs": [],
   "source": [
    "# Find if there are any NAN values in the Category Columns\n",
    "subsetData[subsetData.isnull().any(axis=1)]\n",
    "\n",
    "# num_doors has 2 rows with NAN values and replace them with the Mode of the num_doors data, which is four in this case.\n",
    "counts = subsetData[\"num_doors\"].value_counts()\n",
    "subsetData = subsetData.fillna({\"num_doors\": counts.index[0]})"
   ]
  },
  {
   "cell_type": "markdown",
   "metadata": {},
   "source": [
    "Consolidate categorical data. "
   ]
  },
  {
   "cell_type": "code",
   "execution_count": 298,
   "metadata": {},
   "outputs": [
    {
     "name": "stdout",
     "output_type": "stream",
     "text": [
      "Before Consolidation    wheel_base curb_weight num_cylinders drive_wheels num_doors  horsepower\n",
      "0    0.058309      Medium          four          rwd       two       111.0\n",
      "1    0.058309      Medium          four          rwd       two       111.0\n",
      "2    0.230321      Medium           six          rwd       two       154.0\n",
      "3    0.384840      Medium          four          fwd      four       102.0\n",
      "4    0.373178      Medium          five          4wd      four       115.0\n"
     ]
    },
    {
     "data": {
      "text/html": [
       "<div>\n",
       "<style scoped>\n",
       "    .dataframe tbody tr th:only-of-type {\n",
       "        vertical-align: middle;\n",
       "    }\n",
       "\n",
       "    .dataframe tbody tr th {\n",
       "        vertical-align: top;\n",
       "    }\n",
       "\n",
       "    .dataframe thead th {\n",
       "        text-align: right;\n",
       "    }\n",
       "</style>\n",
       "<table border=\"1\" class=\"dataframe\">\n",
       "  <thead>\n",
       "    <tr style=\"text-align: right;\">\n",
       "      <th></th>\n",
       "      <th>wheel_base</th>\n",
       "      <th>curb_weight</th>\n",
       "      <th>num_cylinders</th>\n",
       "      <th>drive_wheels</th>\n",
       "      <th>num_doors</th>\n",
       "      <th>horsepower</th>\n",
       "    </tr>\n",
       "  </thead>\n",
       "  <tbody>\n",
       "    <tr>\n",
       "      <th>0</th>\n",
       "      <td>0.058309</td>\n",
       "      <td>Medium</td>\n",
       "      <td>Upto5Cylinders</td>\n",
       "      <td>rwd</td>\n",
       "      <td>two</td>\n",
       "      <td>111.0</td>\n",
       "    </tr>\n",
       "    <tr>\n",
       "      <th>1</th>\n",
       "      <td>0.058309</td>\n",
       "      <td>Medium</td>\n",
       "      <td>Upto5Cylinders</td>\n",
       "      <td>rwd</td>\n",
       "      <td>two</td>\n",
       "      <td>111.0</td>\n",
       "    </tr>\n",
       "    <tr>\n",
       "      <th>2</th>\n",
       "      <td>0.230321</td>\n",
       "      <td>Medium</td>\n",
       "      <td>MoreThan5Cylinders</td>\n",
       "      <td>rwd</td>\n",
       "      <td>two</td>\n",
       "      <td>154.0</td>\n",
       "    </tr>\n",
       "    <tr>\n",
       "      <th>3</th>\n",
       "      <td>0.384840</td>\n",
       "      <td>Medium</td>\n",
       "      <td>Upto5Cylinders</td>\n",
       "      <td>fwd</td>\n",
       "      <td>four</td>\n",
       "      <td>102.0</td>\n",
       "    </tr>\n",
       "    <tr>\n",
       "      <th>4</th>\n",
       "      <td>0.373178</td>\n",
       "      <td>Medium</td>\n",
       "      <td>Upto5Cylinders</td>\n",
       "      <td>4wd</td>\n",
       "      <td>four</td>\n",
       "      <td>115.0</td>\n",
       "    </tr>\n",
       "  </tbody>\n",
       "</table>\n",
       "</div>"
      ],
      "text/plain": [
       "   wheel_base curb_weight       num_cylinders drive_wheels num_doors  \\\n",
       "0    0.058309      Medium      Upto5Cylinders          rwd       two   \n",
       "1    0.058309      Medium      Upto5Cylinders          rwd       two   \n",
       "2    0.230321      Medium  MoreThan5Cylinders          rwd       two   \n",
       "3    0.384840      Medium      Upto5Cylinders          fwd      four   \n",
       "4    0.373178      Medium      Upto5Cylinders          4wd      four   \n",
       "\n",
       "   horsepower  \n",
       "0       111.0  \n",
       "1       111.0  \n",
       "2       154.0  \n",
       "3       102.0  \n",
       "4       115.0  "
      ]
     },
     "execution_count": 298,
     "metadata": {},
     "output_type": "execute_result"
    }
   ],
   "source": [
    "print(f\"\"\"Before Consolidation {subsetData.head(5)}\"\"\")\n",
    "# Convert the num of cylinders into number.\n",
    "numbers = {\"num_cylinders\": {\"four\": 4, \"six\": 6, \"five\": 5, \"eight\": 8, \"two\": 2, \"twelve\": 12, \"three\":3 }}\n",
    "subsetData.replace(numbers, inplace=True)\n",
    "\n",
    "# Consolidate the cateogories into 2 categories 1) Upto5Cylinders  2) MoreThan5Cylinders\n",
    "consolidateCategories = {\"Upto5Cylinders\" : [2,3,4,5],\n",
    "      \"MoreThan5Cylinders\" : [6,8,12]}\n",
    "distribution = {v: k for k,vv in consolidateCategories.items() for v in vv}\n",
    "subsetData['num_cylinders'] = subsetData['num_cylinders'].map(distribution).astype(pd.api.types.CategoricalDtype(categories=set(m2.values())))\n",
    "subsetData.head(5)"
   ]
  },
  {
   "cell_type": "markdown",
   "metadata": {},
   "source": [
    "One-hot encode categorical data with at least 3 categories (at least 1 column)."
   ]
  },
  {
   "cell_type": "code",
   "execution_count": 299,
   "metadata": {},
   "outputs": [
    {
     "data": {
      "text/html": [
       "<div>\n",
       "<style scoped>\n",
       "    .dataframe tbody tr th:only-of-type {\n",
       "        vertical-align: middle;\n",
       "    }\n",
       "\n",
       "    .dataframe tbody tr th {\n",
       "        vertical-align: top;\n",
       "    }\n",
       "\n",
       "    .dataframe thead th {\n",
       "        text-align: right;\n",
       "    }\n",
       "</style>\n",
       "<table border=\"1\" class=\"dataframe\">\n",
       "  <thead>\n",
       "    <tr style=\"text-align: right;\">\n",
       "      <th></th>\n",
       "      <th>wheel_base</th>\n",
       "      <th>curb_weight</th>\n",
       "      <th>num_cylinders</th>\n",
       "      <th>num_doors</th>\n",
       "      <th>horsepower</th>\n",
       "      <th>drive_wheels_4wd</th>\n",
       "      <th>drive_wheels_fwd</th>\n",
       "      <th>drive_wheels_rwd</th>\n",
       "    </tr>\n",
       "  </thead>\n",
       "  <tbody>\n",
       "    <tr>\n",
       "      <th>0</th>\n",
       "      <td>0.058309</td>\n",
       "      <td>Medium</td>\n",
       "      <td>Upto5Cylinders</td>\n",
       "      <td>two</td>\n",
       "      <td>111.0</td>\n",
       "      <td>0</td>\n",
       "      <td>0</td>\n",
       "      <td>1</td>\n",
       "    </tr>\n",
       "    <tr>\n",
       "      <th>1</th>\n",
       "      <td>0.058309</td>\n",
       "      <td>Medium</td>\n",
       "      <td>Upto5Cylinders</td>\n",
       "      <td>two</td>\n",
       "      <td>111.0</td>\n",
       "      <td>0</td>\n",
       "      <td>0</td>\n",
       "      <td>1</td>\n",
       "    </tr>\n",
       "    <tr>\n",
       "      <th>2</th>\n",
       "      <td>0.230321</td>\n",
       "      <td>Medium</td>\n",
       "      <td>MoreThan5Cylinders</td>\n",
       "      <td>two</td>\n",
       "      <td>154.0</td>\n",
       "      <td>0</td>\n",
       "      <td>0</td>\n",
       "      <td>1</td>\n",
       "    </tr>\n",
       "    <tr>\n",
       "      <th>3</th>\n",
       "      <td>0.384840</td>\n",
       "      <td>Medium</td>\n",
       "      <td>Upto5Cylinders</td>\n",
       "      <td>four</td>\n",
       "      <td>102.0</td>\n",
       "      <td>0</td>\n",
       "      <td>1</td>\n",
       "      <td>0</td>\n",
       "    </tr>\n",
       "    <tr>\n",
       "      <th>4</th>\n",
       "      <td>0.373178</td>\n",
       "      <td>Medium</td>\n",
       "      <td>Upto5Cylinders</td>\n",
       "      <td>four</td>\n",
       "      <td>115.0</td>\n",
       "      <td>1</td>\n",
       "      <td>0</td>\n",
       "      <td>0</td>\n",
       "    </tr>\n",
       "  </tbody>\n",
       "</table>\n",
       "</div>"
      ],
      "text/plain": [
       "   wheel_base curb_weight       num_cylinders num_doors  horsepower  \\\n",
       "0    0.058309      Medium      Upto5Cylinders       two       111.0   \n",
       "1    0.058309      Medium      Upto5Cylinders       two       111.0   \n",
       "2    0.230321      Medium  MoreThan5Cylinders       two       154.0   \n",
       "3    0.384840      Medium      Upto5Cylinders      four       102.0   \n",
       "4    0.373178      Medium      Upto5Cylinders      four       115.0   \n",
       "\n",
       "   drive_wheels_4wd  drive_wheels_fwd  drive_wheels_rwd  \n",
       "0                 0                 0                 1  \n",
       "1                 0                 0                 1  \n",
       "2                 0                 0                 1  \n",
       "3                 0                 1                 0  \n",
       "4                 1                 0                 0  "
      ]
     },
     "execution_count": 299,
     "metadata": {},
     "output_type": "execute_result"
    }
   ],
   "source": [
    "# Onehot encode the column drive_Wheels using the Pandas Method : get_dummies.\n",
    "subsetData = pd.get_dummies(subsetData, columns=[\"drive_wheels\"])\n",
    "\n",
    "# Validate that the column is OneHotEncoded.\n",
    "subsetData.head(5)"
   ]
  },
  {
   "cell_type": "markdown",
   "metadata": {},
   "source": [
    "Remove obsolete columns. Columns Name : HorsePower."
   ]
  },
  {
   "cell_type": "code",
   "execution_count": 300,
   "metadata": {},
   "outputs": [
    {
     "name": "stdout",
     "output_type": "stream",
     "text": [
      "Before Dropping    wheel_base curb_weight       num_cylinders num_doors  horsepower  \\\n",
      "0    0.058309      Medium      Upto5Cylinders       two       111.0   \n",
      "1    0.058309      Medium      Upto5Cylinders       two       111.0   \n",
      "2    0.230321      Medium  MoreThan5Cylinders       two       154.0   \n",
      "3    0.384840      Medium      Upto5Cylinders      four       102.0   \n",
      "4    0.373178      Medium      Upto5Cylinders      four       115.0   \n",
      "\n",
      "   drive_wheels_4wd  drive_wheels_fwd  drive_wheels_rwd  \n",
      "0                 0                 0                 1  \n",
      "1                 0                 0                 1  \n",
      "2                 0                 0                 1  \n",
      "3                 0                 1                 0  \n",
      "4                 1                 0                 0  \n"
     ]
    },
    {
     "data": {
      "text/html": [
       "<div>\n",
       "<style scoped>\n",
       "    .dataframe tbody tr th:only-of-type {\n",
       "        vertical-align: middle;\n",
       "    }\n",
       "\n",
       "    .dataframe tbody tr th {\n",
       "        vertical-align: top;\n",
       "    }\n",
       "\n",
       "    .dataframe thead th {\n",
       "        text-align: right;\n",
       "    }\n",
       "</style>\n",
       "<table border=\"1\" class=\"dataframe\">\n",
       "  <thead>\n",
       "    <tr style=\"text-align: right;\">\n",
       "      <th></th>\n",
       "      <th>wheel_base</th>\n",
       "      <th>curb_weight</th>\n",
       "      <th>num_cylinders</th>\n",
       "      <th>num_doors</th>\n",
       "      <th>drive_wheels_4wd</th>\n",
       "      <th>drive_wheels_fwd</th>\n",
       "      <th>drive_wheels_rwd</th>\n",
       "    </tr>\n",
       "  </thead>\n",
       "  <tbody>\n",
       "    <tr>\n",
       "      <th>0</th>\n",
       "      <td>0.058309</td>\n",
       "      <td>Medium</td>\n",
       "      <td>Upto5Cylinders</td>\n",
       "      <td>two</td>\n",
       "      <td>0</td>\n",
       "      <td>0</td>\n",
       "      <td>1</td>\n",
       "    </tr>\n",
       "    <tr>\n",
       "      <th>1</th>\n",
       "      <td>0.058309</td>\n",
       "      <td>Medium</td>\n",
       "      <td>Upto5Cylinders</td>\n",
       "      <td>two</td>\n",
       "      <td>0</td>\n",
       "      <td>0</td>\n",
       "      <td>1</td>\n",
       "    </tr>\n",
       "    <tr>\n",
       "      <th>2</th>\n",
       "      <td>0.230321</td>\n",
       "      <td>Medium</td>\n",
       "      <td>MoreThan5Cylinders</td>\n",
       "      <td>two</td>\n",
       "      <td>0</td>\n",
       "      <td>0</td>\n",
       "      <td>1</td>\n",
       "    </tr>\n",
       "    <tr>\n",
       "      <th>3</th>\n",
       "      <td>0.384840</td>\n",
       "      <td>Medium</td>\n",
       "      <td>Upto5Cylinders</td>\n",
       "      <td>four</td>\n",
       "      <td>0</td>\n",
       "      <td>1</td>\n",
       "      <td>0</td>\n",
       "    </tr>\n",
       "    <tr>\n",
       "      <th>4</th>\n",
       "      <td>0.373178</td>\n",
       "      <td>Medium</td>\n",
       "      <td>Upto5Cylinders</td>\n",
       "      <td>four</td>\n",
       "      <td>1</td>\n",
       "      <td>0</td>\n",
       "      <td>0</td>\n",
       "    </tr>\n",
       "  </tbody>\n",
       "</table>\n",
       "</div>"
      ],
      "text/plain": [
       "   wheel_base curb_weight       num_cylinders num_doors  drive_wheels_4wd  \\\n",
       "0    0.058309      Medium      Upto5Cylinders       two                 0   \n",
       "1    0.058309      Medium      Upto5Cylinders       two                 0   \n",
       "2    0.230321      Medium  MoreThan5Cylinders       two                 0   \n",
       "3    0.384840      Medium      Upto5Cylinders      four                 0   \n",
       "4    0.373178      Medium      Upto5Cylinders      four                 1   \n",
       "\n",
       "   drive_wheels_fwd  drive_wheels_rwd  \n",
       "0                 0                 1  \n",
       "1                 0                 1  \n",
       "2                 0                 1  \n",
       "3                 1                 0  \n",
       "4                 0                 0  "
      ]
     },
     "execution_count": 300,
     "metadata": {},
     "output_type": "execute_result"
    }
   ],
   "source": [
    "print(f\"\"\"Before Dropping {subsetData.head(5)}\"\"\")\n",
    "\n",
    "# Drop the column horsepower as it is not needed for further analysis.\n",
    "subsetData = subsetData.drop(['horsepower'], axis=1)\n",
    "\n",
    "subsetData.head(5)\n"
   ]
  },
  {
   "cell_type": "markdown",
   "metadata": {},
   "source": [
    "Plot Category Columns"
   ]
  },
  {
   "cell_type": "code",
   "execution_count": 301,
   "metadata": {},
   "outputs": [
    {
     "data": {
      "text/plain": [
       "<matplotlib.axes._subplots.AxesSubplot at 0x2478770b908>"
      ]
     },
     "execution_count": 301,
     "metadata": {},
     "output_type": "execute_result"
    },
    {
     "data": {
      "image/png": "[encoded data removed]",
      "text/plain": [
       "<Figure size 432x288 with 1 Axes>"
      ]
     },
     "metadata": {
      "needs_background": "light"
     },
     "output_type": "display_data"
    }
   ],
   "source": [
    "subsetData['num_doors'].value_counts().plot(kind='bar')"
   ]
  },
  {
   "cell_type": "code",
   "execution_count": 302,
   "metadata": {},
   "outputs": [
    {
     "data": {
      "text/plain": [
       "<matplotlib.axes._subplots.AxesSubplot at 0x24789767898>"
      ]
     },
     "execution_count": 302,
     "metadata": {},
     "output_type": "execute_result"
    },
    {
     "data": {
      "image/png": "[encoded data removed]",
      "text/plain": [
       "<Figure size 432x288 with 1 Axes>"
      ]
     },
     "metadata": {
      "needs_background": "light"
     },
     "output_type": "display_data"
    }
   ],
   "source": [
    "subsetData['curb_weight'].value_counts().plot(kind='bar')"
   ]
  },
  {
   "cell_type": "markdown",
   "metadata": {},
   "source": [
    "Summary\n",
    "\n",
    "Add a summary comment block on how the categorical variables have been treated: decoded, imputed, consolidated, and one-hot encoded. Which attributes were plotted and why?\n",
    "\n",
    "Q) How the Category Column were decoded?\n",
    "A) After loading the data into DataFrame, I checked the types of the columns and found that the columns with datatype=object qualified as Category Columns.\n",
    "\n",
    "\n",
    "Q) How the Category Column were imputed?\n",
    "A) First I found out all the NAN values in the category columns. num_doors had 2 rows with NAN and replaced them with the mode of the num_doors data using fillna function of Pandas.\n",
    "\n",
    "\n",
    "Q) How the Category Column were consolidated?\n",
    "A) I consolidated the num_cylinders into 2 categories from the existing 7 categories. This was done using the Replace function to convert the categories to numbers and then using the map function to map the categories.\n",
    "\n",
    "Q) How the Category Column were one-hot encoded?\n",
    "A) drive_wheels column was one-hot encoded using the Pandas get_dummies function.\n",
    "\n",
    "Q) Which attributes were plotted and why?\n",
    "A) I chose to plot the curb_weight and num_doors columns. This plot gives an idea of how the category values are distributed.\n"
   ]
  }
 ],
 "metadata": {
  "kernelspec": {
   "display_name": "Python 3.6.10 64-bit ('uwdatasci400': conda)",
   "language": "python",
   "name": "python361064bituwdatasci400conda462f258cfeb64beb85b35ac0d2ed5920"
  },
  "language_info": {
   "codemirror_mode": {
    "name": "ipython",
    "version": 3
   },
   "file_extension": ".py",
   "mimetype": "text/x-python",
   "name": "python",
   "nbconvert_exporter": "python",
   "pygments_lexer": "ipython3",
   "version": "3.6.10"
  }
 },
 "nbformat": 4,
 "nbformat_minor": 4
}
