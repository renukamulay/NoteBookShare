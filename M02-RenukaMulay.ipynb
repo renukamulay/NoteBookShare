{
 "cells": [
  {
   "cell_type": "markdown",
   "metadata": {},
   "source": [
    "# Milestone 2\n",
    "# Renuka Mulay\n"
   ]
  },
  {
   "cell_type": "markdown",
   "metadata": {},
   "source": [
    "Read the Automobile Data Set from Internet and Assign Columns Names."
   ]
  },
  {
   "cell_type": "code",
   "execution_count": 89,
   "metadata": {},
   "outputs": [],
   "source": [
    "import numpy as np\n",
    "import pandas as pd\n",
    "import seaborn as sns\n",
    "import matplotlib\n",
    "from scipy import stats"
   ]
  },
  {
   "cell_type": "code",
   "execution_count": 90,
   "metadata": {
    "scrolled": true
   },
   "outputs": [],
   "source": [
    "#Read the WholeSale Customer Data from Internet and Assign Columns Names.\n",
    "headers = [\"Channel\", \"Region\", \"Fresh\" ,\"Milk\", \"Grocery\",\"Frozen\",\"Detergents_Paper\",\"Delicassen\"]\n",
    "originalData = pd.read_csv('https://raw.githubusercontent.com/renukamulay/NoteBookShare/master/data/Wholesale_customers_data.csv', \n",
    "                          header=0, names=headers, na_values=\"0\")\n",
    "\n",
    "#Select a subset of data for analysis.\n",
    "subsetData = originalData[[\"Channel\", \"Region\", \"Fresh\" ,\"Milk\", \"Grocery\",\"Frozen\",\"Detergents_Paper\",\"Delicassen\"]].copy()"
   ]
  },
  {
   "cell_type": "markdown",
   "metadata": {},
   "source": [
    "Remove the Outliers using the Z Normalization. If the absolute value of the score is > 3 then the whole row is remove."
   ]
  },
  {
   "cell_type": "code",
   "execution_count": 91,
   "metadata": {},
   "outputs": [
    {
     "name": "stdout",
     "output_type": "stream",
     "text": [
      "Shape before removing the outliers (440, 8)\n",
      "Shape after removing the outliers (414, 8)\n"
     ]
    }
   ],
   "source": [
    "# Remove Outlier based on the Z Score.\n",
    "# Outliers are removed based on the z score. If Z Score > 3 then the whole row is removed.\n",
    "print(f\"\"\"Shape before removing the outliers {subsetData.shape}\"\"\")\n",
    "subsetData = subsetData[np.abs(stats.zscore(subsetData) < 3).all(axis=1)]\n",
    "print(f\"\"\"Shape after removing the outliers {subsetData.shape}\"\"\")"
   ]
  },
  {
   "cell_type": "markdown",
   "metadata": {},
   "source": [
    "Replace missing numeric data (at least 1 column) with the median.[Note :: This dataset doesnt contain missing value]"
   ]
  },
  {
   "cell_type": "code",
   "execution_count": 92,
   "metadata": {},
   "outputs": [
    {
     "name": "stdout",
     "output_type": "stream",
     "text": [
      "Minimun value before Imputing Missing value = 3.0\n",
      "Minimun value after Imputing Missing value = 3.0\n"
     ]
    }
   ],
   "source": [
    "# Validate Before changing\n",
    "print(f\"\"\"Minimun value before Imputing Missing value = {subsetData.describe()['Grocery']['min']}\"\"\")\n",
    "\n",
    "#Column Glucose_Concentration cannot have 0 value, and the ones that contain 0 value are the Missing Values.\n",
    "missingValue = 0\n",
    "#Replace 0 values with NaN so that Pandas ignores those values while caculating median.\n",
    "subsetData.loc[(subsetData.Grocery == missingValue),'Grocery'] = np.NaN\n",
    "missingValueReplacement = subsetData.median()['Grocery']\n",
    "\n",
    "# replace the missing values(NaN) with the Median\n",
    "subsetData.Grocery =  subsetData[\"Grocery\"].fillna(missingValueReplacement)\n",
    "\n",
    "# Validate After changing\n",
    "print(f\"\"\"Minimun value after Imputing Missing value = {subsetData.describe()['Grocery']['min']}\"\"\")"
   ]
  },
  {
   "cell_type": "markdown",
   "metadata": {},
   "source": [
    "Normalize (Min-Max Normalization) numeric values of Column (Frozen)"
   ]
  },
  {
   "cell_type": "code",
   "execution_count": 93,
   "metadata": {},
   "outputs": [
    {
     "name": "stdout",
     "output_type": "stream",
     "text": [
      "Before Normalization 0     214\n",
      "1    1762\n",
      "2    2405\n",
      "3    6404\n",
      "4    3915\n",
      "Name: Frozen, dtype: int64\n",
      " After Normilization      Frozen\n",
      "0  0.011187\n",
      "1  0.102818\n",
      "2  0.140878\n",
      "3  0.377590\n",
      "4  0.230259\n"
     ]
    },
    {
     "name": "stderr",
     "output_type": "stream",
     "text": [
      "C:\\ProgramData\\Anaconda3\\envs\\uwdatasci400\\lib\\site-packages\\sklearn\\preprocessing\\data.py:334: DataConversionWarning: Data with input dtype int64 were all converted to float64 by MinMaxScaler.\n",
      "  return self.partial_fit(X, y)\n"
     ]
    }
   ],
   "source": [
    "print(f\"Before Normalization {subsetData['Frozen'].head(5)}\")\n",
    "\n",
    "# Select the Column to Min-Max Normalize\n",
    "columnToNormalize = ['Frozen']\n",
    "\n",
    "# Import the SkLearn classes for MinMax Normalization.\n",
    "from sklearn.preprocessing import MinMaxScaler\n",
    "minmax_scaler = MinMaxScaler()\n",
    "minmax_scaler.fit(subsetData[columnToNormalize])\n",
    "\n",
    "# Set the Normalized Columns to the Original DataSet.\n",
    "subsetData['Frozen'] = pd.DataFrame(minmax_scaler.transform(subsetData[columnToNormalize]))\n",
    "\n",
    "print(f\"\"\" After Normilization {subsetData[columnToNormalize].head(5)}\"\"\")"
   ]
  },
  {
   "cell_type": "markdown",
   "metadata": {},
   "source": [
    "Bin numeric variables. Column = Fresh.\n",
    "\n",
    "Bins\n",
    "1. 0 - 20000   Low\n",
    "2. 20000 - 35000    Medium\n",
    "3. 35000 - 50000   High\n"
   ]
  },
  {
   "cell_type": "code",
   "execution_count": 94,
   "metadata": {},
   "outputs": [
    {
     "name": "stdout",
     "output_type": "stream",
     "text": [
      "Before Binning 0    12669\n",
      "1     7057\n",
      "2     6353\n",
      "3    13265\n",
      "4    22615\n",
      "Name: Fresh, dtype: int64\n",
      "After Binning 0       Low\n",
      "1       Low\n",
      "2       Low\n",
      "3       Low\n",
      "4    Medium\n",
      "Name: Fresh, dtype: category\n",
      "Categories (3, object): [Low < Medium < High]\n"
     ]
    }
   ],
   "source": [
    "print(f\"\"\"Before Binning {subsetData['Fresh'].head(5)}\"\"\")\n",
    "\n",
    "# Create the bins and apply pd.cut to bin the numeric data into categories.\n",
    "bins = [0, 20000, 35000, 50000]\n",
    "labels = ['Low', 'Medium', 'High']\n",
    "subsetData['Fresh'] = pd.cut(subsetData['Fresh'], bins=bins, labels=labels)\n",
    "\n",
    "# Set the Type to Category.\n",
    "subsetData['Fresh'] = subsetData['Fresh'].astype('category')\n",
    "\n",
    "print(f\"\"\"After Binning {subsetData['Fresh'].head(5)}\"\"\")"
   ]
  },
  {
   "cell_type": "markdown",
   "metadata": {},
   "source": [
    "Consolidate categorical data. "
   ]
  },
  {
   "cell_type": "code",
   "execution_count": 95,
   "metadata": {},
   "outputs": [
    {
     "name": "stdout",
     "output_type": "stream",
     "text": [
      "Before Consolidation    Channel  Region   Fresh  Milk  Grocery    Frozen  Detergents_Paper  \\\n",
      "0        2       3     Low  9656   7561.0  0.011187              2674   \n",
      "1        2       3     Low  9810   9568.0  0.102818              3293   \n",
      "2        2       3     Low  8808   7684.0  0.140878              3516   \n",
      "3        1       3     Low  1196   4221.0  0.377590               507   \n",
      "4        2       3  Medium  5410   7198.0  0.230259              1777   \n",
      "\n",
      "   Delicassen  \n",
      "0        1338  \n",
      "1        1776  \n",
      "2        7844  \n",
      "3        1788  \n",
      "4        5185  \n"
     ]
    },
    {
     "data": {
      "text/html": [
       "<div>\n",
       "<style scoped>\n",
       "    .dataframe tbody tr th:only-of-type {\n",
       "        vertical-align: middle;\n",
       "    }\n",
       "\n",
       "    .dataframe tbody tr th {\n",
       "        vertical-align: top;\n",
       "    }\n",
       "\n",
       "    .dataframe thead th {\n",
       "        text-align: right;\n",
       "    }\n",
       "</style>\n",
       "<table border=\"1\" class=\"dataframe\">\n",
       "  <thead>\n",
       "    <tr style=\"text-align: right;\">\n",
       "      <th></th>\n",
       "      <th>Channel</th>\n",
       "      <th>Region</th>\n",
       "      <th>Fresh</th>\n",
       "      <th>Milk</th>\n",
       "      <th>Grocery</th>\n",
       "      <th>Frozen</th>\n",
       "      <th>Detergents_Paper</th>\n",
       "      <th>Delicassen</th>\n",
       "    </tr>\n",
       "  </thead>\n",
       "  <tbody>\n",
       "    <tr>\n",
       "      <th>0</th>\n",
       "      <td>2</td>\n",
       "      <td>OtherRegion</td>\n",
       "      <td>Low</td>\n",
       "      <td>9656</td>\n",
       "      <td>7561.0</td>\n",
       "      <td>0.011187</td>\n",
       "      <td>2674</td>\n",
       "      <td>1338</td>\n",
       "    </tr>\n",
       "    <tr>\n",
       "      <th>1</th>\n",
       "      <td>2</td>\n",
       "      <td>OtherRegion</td>\n",
       "      <td>Low</td>\n",
       "      <td>9810</td>\n",
       "      <td>9568.0</td>\n",
       "      <td>0.102818</td>\n",
       "      <td>3293</td>\n",
       "      <td>1776</td>\n",
       "    </tr>\n",
       "    <tr>\n",
       "      <th>2</th>\n",
       "      <td>2</td>\n",
       "      <td>OtherRegion</td>\n",
       "      <td>Low</td>\n",
       "      <td>8808</td>\n",
       "      <td>7684.0</td>\n",
       "      <td>0.140878</td>\n",
       "      <td>3516</td>\n",
       "      <td>7844</td>\n",
       "    </tr>\n",
       "    <tr>\n",
       "      <th>3</th>\n",
       "      <td>1</td>\n",
       "      <td>OtherRegion</td>\n",
       "      <td>Low</td>\n",
       "      <td>1196</td>\n",
       "      <td>4221.0</td>\n",
       "      <td>0.377590</td>\n",
       "      <td>507</td>\n",
       "      <td>1788</td>\n",
       "    </tr>\n",
       "    <tr>\n",
       "      <th>4</th>\n",
       "      <td>2</td>\n",
       "      <td>OtherRegion</td>\n",
       "      <td>Medium</td>\n",
       "      <td>5410</td>\n",
       "      <td>7198.0</td>\n",
       "      <td>0.230259</td>\n",
       "      <td>1777</td>\n",
       "      <td>5185</td>\n",
       "    </tr>\n",
       "  </tbody>\n",
       "</table>\n",
       "</div>"
      ],
      "text/plain": [
       "   Channel       Region   Fresh  Milk  Grocery    Frozen  Detergents_Paper  \\\n",
       "0        2  OtherRegion     Low  9656   7561.0  0.011187              2674   \n",
       "1        2  OtherRegion     Low  9810   9568.0  0.102818              3293   \n",
       "2        2  OtherRegion     Low  8808   7684.0  0.140878              3516   \n",
       "3        1  OtherRegion     Low  1196   4221.0  0.377590               507   \n",
       "4        2  OtherRegion  Medium  5410   7198.0  0.230259              1777   \n",
       "\n",
       "   Delicassen  \n",
       "0        1338  \n",
       "1        1776  \n",
       "2        7844  \n",
       "3        1788  \n",
       "4        5185  "
      ]
     },
     "execution_count": 95,
     "metadata": {},
     "output_type": "execute_result"
    }
   ],
   "source": [
    "print(f\"\"\"Before Consolidation {subsetData.head(5)}\"\"\")\n",
    "# # Convert the num of cylinders into number.\n",
    "# numbers = {\"num_cylinders\": {\"Three\": 4, \"six\": 6, \"five\": 5, \"eight\": 8, \"two\": 2, \"twelve\": 12, \"three\":3 }}\n",
    "# subsetData.replace(numbers, inplace=True)\n",
    "\n",
    "# Consolidate the cateogories into 2 categories 1) Upto5Cylinders  2) MoreThan5Cylinders\n",
    "consolidateCategories = {\"LisnonAndOportoRegion\" : [1,2],\n",
    "      \"OtherRegion\" : [3]}\n",
    "distribution = {v: k for k,vv in consolidateCategories.items() for v in vv}\n",
    "subsetData['Region'] = subsetData['Region'].map(distribution).astype(pd.api.types.CategoricalDtype(categories=set(distribution.values())))\n",
    "subsetData.head(5)"
   ]
  },
  {
   "cell_type": "markdown",
   "metadata": {},
   "source": [
    "One-hot encode categorical data with at least 3 categories (at least 1 column)."
   ]
  },
  {
   "cell_type": "code",
   "execution_count": 96,
   "metadata": {},
   "outputs": [
    {
     "data": {
      "text/html": [
       "<div>\n",
       "<style scoped>\n",
       "    .dataframe tbody tr th:only-of-type {\n",
       "        vertical-align: middle;\n",
       "    }\n",
       "\n",
       "    .dataframe tbody tr th {\n",
       "        vertical-align: top;\n",
       "    }\n",
       "\n",
       "    .dataframe thead th {\n",
       "        text-align: right;\n",
       "    }\n",
       "</style>\n",
       "<table border=\"1\" class=\"dataframe\">\n",
       "  <thead>\n",
       "    <tr style=\"text-align: right;\">\n",
       "      <th></th>\n",
       "      <th>Channel</th>\n",
       "      <th>Region</th>\n",
       "      <th>Milk</th>\n",
       "      <th>Grocery</th>\n",
       "      <th>Frozen</th>\n",
       "      <th>Detergents_Paper</th>\n",
       "      <th>Delicassen</th>\n",
       "      <th>Fresh_Low</th>\n",
       "      <th>Fresh_Medium</th>\n",
       "      <th>Fresh_High</th>\n",
       "    </tr>\n",
       "  </thead>\n",
       "  <tbody>\n",
       "    <tr>\n",
       "      <th>0</th>\n",
       "      <td>2</td>\n",
       "      <td>OtherRegion</td>\n",
       "      <td>9656</td>\n",
       "      <td>7561.0</td>\n",
       "      <td>0.011187</td>\n",
       "      <td>2674</td>\n",
       "      <td>1338</td>\n",
       "      <td>1</td>\n",
       "      <td>0</td>\n",
       "      <td>0</td>\n",
       "    </tr>\n",
       "    <tr>\n",
       "      <th>1</th>\n",
       "      <td>2</td>\n",
       "      <td>OtherRegion</td>\n",
       "      <td>9810</td>\n",
       "      <td>9568.0</td>\n",
       "      <td>0.102818</td>\n",
       "      <td>3293</td>\n",
       "      <td>1776</td>\n",
       "      <td>1</td>\n",
       "      <td>0</td>\n",
       "      <td>0</td>\n",
       "    </tr>\n",
       "    <tr>\n",
       "      <th>2</th>\n",
       "      <td>2</td>\n",
       "      <td>OtherRegion</td>\n",
       "      <td>8808</td>\n",
       "      <td>7684.0</td>\n",
       "      <td>0.140878</td>\n",
       "      <td>3516</td>\n",
       "      <td>7844</td>\n",
       "      <td>1</td>\n",
       "      <td>0</td>\n",
       "      <td>0</td>\n",
       "    </tr>\n",
       "    <tr>\n",
       "      <th>3</th>\n",
       "      <td>1</td>\n",
       "      <td>OtherRegion</td>\n",
       "      <td>1196</td>\n",
       "      <td>4221.0</td>\n",
       "      <td>0.377590</td>\n",
       "      <td>507</td>\n",
       "      <td>1788</td>\n",
       "      <td>1</td>\n",
       "      <td>0</td>\n",
       "      <td>0</td>\n",
       "    </tr>\n",
       "    <tr>\n",
       "      <th>4</th>\n",
       "      <td>2</td>\n",
       "      <td>OtherRegion</td>\n",
       "      <td>5410</td>\n",
       "      <td>7198.0</td>\n",
       "      <td>0.230259</td>\n",
       "      <td>1777</td>\n",
       "      <td>5185</td>\n",
       "      <td>0</td>\n",
       "      <td>1</td>\n",
       "      <td>0</td>\n",
       "    </tr>\n",
       "  </tbody>\n",
       "</table>\n",
       "</div>"
      ],
      "text/plain": [
       "   Channel       Region  Milk  Grocery    Frozen  Detergents_Paper  \\\n",
       "0        2  OtherRegion  9656   7561.0  0.011187              2674   \n",
       "1        2  OtherRegion  9810   9568.0  0.102818              3293   \n",
       "2        2  OtherRegion  8808   7684.0  0.140878              3516   \n",
       "3        1  OtherRegion  1196   4221.0  0.377590               507   \n",
       "4        2  OtherRegion  5410   7198.0  0.230259              1777   \n",
       "\n",
       "   Delicassen  Fresh_Low  Fresh_Medium  Fresh_High  \n",
       "0        1338          1             0           0  \n",
       "1        1776          1             0           0  \n",
       "2        7844          1             0           0  \n",
       "3        1788          1             0           0  \n",
       "4        5185          0             1           0  "
      ]
     },
     "execution_count": 96,
     "metadata": {},
     "output_type": "execute_result"
    }
   ],
   "source": [
    "# Onehot encode the column Fresh using the Pandas Method : get_dummies.\n",
    "subsetData = pd.get_dummies(subsetData, columns=[\"Fresh\"])\n",
    "\n",
    "# Validate that the column is OneHotEncoded.\n",
    "subsetData.head(5)"
   ]
  },
  {
   "cell_type": "markdown",
   "metadata": {},
   "source": [
    "Remove obsolete columns. Columns Name : Channel."
   ]
  },
  {
   "cell_type": "code",
   "execution_count": 97,
   "metadata": {},
   "outputs": [
    {
     "name": "stdout",
     "output_type": "stream",
     "text": [
      "Before Dropping    Channel       Region  Milk  Grocery    Frozen  Detergents_Paper  \\\n",
      "0        2  OtherRegion  9656   7561.0  0.011187              2674   \n",
      "1        2  OtherRegion  9810   9568.0  0.102818              3293   \n",
      "2        2  OtherRegion  8808   7684.0  0.140878              3516   \n",
      "3        1  OtherRegion  1196   4221.0  0.377590               507   \n",
      "4        2  OtherRegion  5410   7198.0  0.230259              1777   \n",
      "\n",
      "   Delicassen  Fresh_Low  Fresh_Medium  Fresh_High  \n",
      "0        1338          1             0           0  \n",
      "1        1776          1             0           0  \n",
      "2        7844          1             0           0  \n",
      "3        1788          1             0           0  \n",
      "4        5185          0             1           0  \n"
     ]
    },
    {
     "data": {
      "text/html": [
       "<div>\n",
       "<style scoped>\n",
       "    .dataframe tbody tr th:only-of-type {\n",
       "        vertical-align: middle;\n",
       "    }\n",
       "\n",
       "    .dataframe tbody tr th {\n",
       "        vertical-align: top;\n",
       "    }\n",
       "\n",
       "    .dataframe thead th {\n",
       "        text-align: right;\n",
       "    }\n",
       "</style>\n",
       "<table border=\"1\" class=\"dataframe\">\n",
       "  <thead>\n",
       "    <tr style=\"text-align: right;\">\n",
       "      <th></th>\n",
       "      <th>Region</th>\n",
       "      <th>Milk</th>\n",
       "      <th>Grocery</th>\n",
       "      <th>Frozen</th>\n",
       "      <th>Detergents_Paper</th>\n",
       "      <th>Delicassen</th>\n",
       "      <th>Fresh_Low</th>\n",
       "      <th>Fresh_Medium</th>\n",
       "      <th>Fresh_High</th>\n",
       "    </tr>\n",
       "  </thead>\n",
       "  <tbody>\n",
       "    <tr>\n",
       "      <th>0</th>\n",
       "      <td>OtherRegion</td>\n",
       "      <td>9656</td>\n",
       "      <td>7561.0</td>\n",
       "      <td>0.011187</td>\n",
       "      <td>2674</td>\n",
       "      <td>1338</td>\n",
       "      <td>1</td>\n",
       "      <td>0</td>\n",
       "      <td>0</td>\n",
       "    </tr>\n",
       "    <tr>\n",
       "      <th>1</th>\n",
       "      <td>OtherRegion</td>\n",
       "      <td>9810</td>\n",
       "      <td>9568.0</td>\n",
       "      <td>0.102818</td>\n",
       "      <td>3293</td>\n",
       "      <td>1776</td>\n",
       "      <td>1</td>\n",
       "      <td>0</td>\n",
       "      <td>0</td>\n",
       "    </tr>\n",
       "    <tr>\n",
       "      <th>2</th>\n",
       "      <td>OtherRegion</td>\n",
       "      <td>8808</td>\n",
       "      <td>7684.0</td>\n",
       "      <td>0.140878</td>\n",
       "      <td>3516</td>\n",
       "      <td>7844</td>\n",
       "      <td>1</td>\n",
       "      <td>0</td>\n",
       "      <td>0</td>\n",
       "    </tr>\n",
       "    <tr>\n",
       "      <th>3</th>\n",
       "      <td>OtherRegion</td>\n",
       "      <td>1196</td>\n",
       "      <td>4221.0</td>\n",
       "      <td>0.377590</td>\n",
       "      <td>507</td>\n",
       "      <td>1788</td>\n",
       "      <td>1</td>\n",
       "      <td>0</td>\n",
       "      <td>0</td>\n",
       "    </tr>\n",
       "    <tr>\n",
       "      <th>4</th>\n",
       "      <td>OtherRegion</td>\n",
       "      <td>5410</td>\n",
       "      <td>7198.0</td>\n",
       "      <td>0.230259</td>\n",
       "      <td>1777</td>\n",
       "      <td>5185</td>\n",
       "      <td>0</td>\n",
       "      <td>1</td>\n",
       "      <td>0</td>\n",
       "    </tr>\n",
       "  </tbody>\n",
       "</table>\n",
       "</div>"
      ],
      "text/plain": [
       "        Region  Milk  Grocery    Frozen  Detergents_Paper  Delicassen  \\\n",
       "0  OtherRegion  9656   7561.0  0.011187              2674        1338   \n",
       "1  OtherRegion  9810   9568.0  0.102818              3293        1776   \n",
       "2  OtherRegion  8808   7684.0  0.140878              3516        7844   \n",
       "3  OtherRegion  1196   4221.0  0.377590               507        1788   \n",
       "4  OtherRegion  5410   7198.0  0.230259              1777        5185   \n",
       "\n",
       "   Fresh_Low  Fresh_Medium  Fresh_High  \n",
       "0          1             0           0  \n",
       "1          1             0           0  \n",
       "2          1             0           0  \n",
       "3          1             0           0  \n",
       "4          0             1           0  "
      ]
     },
     "execution_count": 97,
     "metadata": {},
     "output_type": "execute_result"
    }
   ],
   "source": [
    "print(f\"\"\"Before Dropping {subsetData.head(5)}\"\"\")\n",
    "\n",
    "# Drop the column horsepower as it is not needed for further analysis.\n",
    "subsetData = subsetData.drop(['Channel'], axis=1)\n",
    "\n",
    "subsetData.head(5)\n"
   ]
  }
 ],
 "metadata": {
  "kernelspec": {
   "display_name": "Python 3.6.10 64-bit ('uwdatasci400': conda)",
   "language": "python",
   "name": "python361064bituwdatasci400conda462f258cfeb64beb85b35ac0d2ed5920"
  },
  "language_info": {
   "codemirror_mode": {
    "name": "ipython",
    "version": 3
   },
   "file_extension": ".py",
   "mimetype": "text/x-python",
   "name": "python",
   "nbconvert_exporter": "python",
   "pygments_lexer": "ipython3",
   "version": "3.6.10"
  }
 },
 "nbformat": 4,
 "nbformat_minor": 4
}
