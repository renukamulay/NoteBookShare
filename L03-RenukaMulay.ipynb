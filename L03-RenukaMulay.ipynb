{
 "cells": [
  {
   "cell_type": "markdown",
   "metadata": {},
   "source": [
    "# Lesson 3\n",
    "# Renuka Mulay"
   ]
  },
  {
   "cell_type": "markdown",
   "metadata": {},
   "source": [
    "Removes the Outliers from a given number array."
   ]
  },
  {
   "cell_type": "code",
   "execution_count": 1,
   "metadata": {},
   "outputs": [
    {
     "name": "stdout",
     "output_type": "stream",
     "text": [
      "Cleaned array is :: [ 1.  2.  3.  4.  5.  6.  7.  8.  9. 10. 11. 12. 13. 14. 16. 17. 18. 19.\n",
      " 20. 21. 22. 24. 25. 26. 27. 28. 29. 30.]\n"
     ]
    }
   ],
   "source": [
    "import numpy as np\n",
    "\n",
    "def remove_outlier(input):\n",
    "    \"\"\"Returns an array that removes the outliers from an input number array\"\"\"\n",
    "    if input is None:\n",
    "        return\n",
    "    if len(input) == 0:\n",
    "        return\n",
    "    upperLimit = np.mean(input) + 2 * np.std(input)\n",
    "    lowerLimit = np.mean(input) - 2 * np.std(input)\n",
    "    return input[(input>=lowerLimit)&(input<=upperLimit)]\n",
    "\n",
    "arr1 = np.array([1,2,3,4,5,6,7,8,9,10,11,12,13,14,8989,16,17,18,19,20,21,22,6766,24,25,26,27,28,29,30],dtype='f')\n",
    "print(f'Cleaned array is :: {remove_outlier(arr1)}')\n"
   ]
  },
  {
   "cell_type": "markdown",
   "metadata": {},
   "source": [
    "Replaces Outliers with the mean of the non outliers."
   ]
  },
  {
   "cell_type": "code",
   "execution_count": 2,
   "metadata": {},
   "outputs": [
    {
     "name": "stdout",
     "output_type": "stream",
     "text": [
      "Cleaned array is :: [ 1.    2.    3.    4.    5.    6.    7.    8.    9.   10.   11.   12.\n",
      " 13.   14.   15.25 16.   17.   18.   19.   20.   21.   22.   15.25 24.\n",
      " 25.   26.   27.   28.   29.   30.  ]\n"
     ]
    }
   ],
   "source": [
    "import numpy as np\n",
    "\n",
    "def replace_outlier(input):\n",
    "    \"\"\"Returns an array with the outlier replaced with the mean of the non outlier numbers\"\"\"\n",
    "    if input is None:\n",
    "        return\n",
    "    if len(input) == 0:\n",
    "        return\n",
    "    removedOutliersMean = np.mean(remove_outlier(input))\n",
    "    upperLimit = np.mean(input) + 2 * np.std(input)\n",
    "    lowerLimit = np.mean(input) - 2 * np.std(input)\n",
    "    count = 0;\n",
    "    for x in (input>=lowerLimit)&(input<=upperLimit):\n",
    "        if x == False:\n",
    "            input[count] = removedOutliersMean\n",
    "        count = count + 1\n",
    "    return input\n",
    "\n",
    "arr1 = np.array([1,2,3,4,5,6,7,8,9,10,11,12,13,14,8989,16,17,18,19,20,21,22,6766,24,25,26,27,28,29,30],dtype='f')\n",
    "print(f'Cleaned array is :: {replace_outlier(arr1)}')"
   ]
  },
  {
   "cell_type": "markdown",
   "metadata": {},
   "source": [
    "Replaces non numeric missing values with the median."
   ]
  },
  {
   "cell_type": "code",
   "execution_count": 3,
   "metadata": {},
   "outputs": [
    {
     "name": "stdout",
     "output_type": "stream",
     "text": [
      "Cleaned array is :: ['1' '2' '3' '4' '5' '6' '7' '8' '9' '10' '11' '12' '13' '14' '15.0' '16'\n",
      " '17' '18' '19' '20' '21' '22' '15.0' '24' '25' '26' '27' '28' '29' '30']\n"
     ]
    }
   ],
   "source": [
    "import numpy as np\n",
    "\n",
    "def replace_outlier(input):\n",
    "    \"\"\"Returns an array with the strings replaced with the median of rest of the items\"\"\"\n",
    "    if input is None:\n",
    "        return\n",
    "    if len(input) == 0:\n",
    "        return\n",
    "    numericArray = [int(_) for _ in input[[item.isnumeric() for item in input]]]\n",
    "    median = np.median(numericArray)\n",
    "    count = 0;\n",
    "    for x in input:\n",
    "        if x.isnumeric() == False:\n",
    "            input[count] = median\n",
    "        count = count + 1\n",
    "    return input\n",
    "\n",
    "arr2 = np.array([1,2,3,4,5,6,7,8,9,10,11,12,13,14,'?',16,17,18,19,20,21,22,'?',24,25,26,27,28,29,30])\n",
    "print(f'Cleaned array is :: {replace_outlier(arr2)}')"
   ]
  },
  {
   "cell_type": "code",
   "execution_count": null,
   "metadata": {},
   "outputs": [],
   "source": []
  },
  {
   "cell_type": "code",
   "execution_count": null,
   "metadata": {},
   "outputs": [],
   "source": []
  },
  {
   "cell_type": "code",
   "execution_count": null,
   "metadata": {},
   "outputs": [],
   "source": []
  }
 ],
 "metadata": {
  "kernelspec": {
   "display_name": "Python 3",
   "language": "python",
   "name": "python3"
  },
  "language_info": {
   "codemirror_mode": {
    "name": "ipython",
    "version": 3
   },
   "file_extension": ".py",
   "mimetype": "text/x-python",
   "name": "python",
   "nbconvert_exporter": "python",
   "pygments_lexer": "ipython3",
   "version": "3.6.10"
  }
 },
 "nbformat": 4,
 "nbformat_minor": 4
}
